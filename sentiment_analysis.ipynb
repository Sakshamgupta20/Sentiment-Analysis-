{
 "cells": [
  {
   "cell_type": "code",
   "execution_count": null,
   "metadata": {},
   "outputs": [],
   "source": [
    "from textblob import TextBlob\n",
    "from nltk.corpus import stopwords\n",
    "from nltk.tokenize import word_tokenize\n",
    "import nltk\n",
    "import string\n",
    "import matplotlib.pyplot as plt \n",
    "#nltk.download('punkt')\n",
    "#nltk.download('stopwords')\n",
    "stop_words=set(stopwords.words('english')) | set(string.punctuation)\n",
    "\n",
    "reviews=open('reviews.txt','r',encoding='utf-8')\n",
    "review_list=[]\n",
    "positive_review=[]\n",
    "negative_review=[]\n",
    "neutral_review=[]\n",
    "\n",
    "def get_sentiment(review): \n",
    "    analysis = TextBlob(review)\n",
    "    if analysis.sentiment.polarity > 0: \n",
    "        return 'positive'\n",
    "    elif analysis.sentiment.polarity == 0: \n",
    "        return 'neutral'\n",
    "    else: \n",
    "        return 'negative'\n",
    "        \n",
    "for text in reviews:\n",
    "    text=text.lower()\n",
    "    text = text.replace(\".\", \" \")\n",
    "    text= ''.join([i if ord(i) < 128 else ' ' for i in text])\n",
    "    words_filtered = \"\"\n",
    "    text_tokens = TextBlob(text)\n",
    "    text_tokens=text_tokens.words\n",
    "    for w in text_tokens:\n",
    "        if w not in stop_words:\n",
    "            words_filtered=words_filtered + \" \" + w\n",
    "    review_list.append(words_filtered)\n",
    "\n",
    "for i in review_list:\n",
    "    if get_sentiment(i)==\"positive\":\n",
    "        positive_review.append(i)\n",
    "    elif get_sentiment(i)==\"neutral\":\n",
    "        neutral_review.append(i)\n",
    "    else:\n",
    "        negative_review.append(i)\n",
    "positive=(\"Positive review percentage: {} %\".format(100*len(positive_review)/len(review_list)))\n",
    "negative=(\"Negative review percentage: {} %\".format(100*len(negative_review)/len(review_list)))\n",
    "neutral=(\"Neutral review percentage: {} %\".format(100*len(neutral_review)/len(review_list)))\n",
    "\n",
    "labels = ['Positive', 'Negative', 'Neutral']\n",
    "sizes=[len(positive_review),len(negative_review),len(neutral_review)]\n",
    "colors = ['green', 'red', 'yellow']\n",
    "explode = (0.05, 0, 0)\n",
    "\n",
    "plt.pie(sizes,explode=explode, labels=labels, colors=colors, startangle=90, autopct='%.1f%%')\n",
    "plt.show()"
   ]
  }
 ],
 "metadata": {
  "kernelspec": {
   "display_name": "Python 3",
   "language": "python",
   "name": "python3"
  },
  "language_info": {
   "codemirror_mode": {
    "name": "ipython",
    "version": 3
   },
   "file_extension": ".py",
   "mimetype": "text/x-python",
   "name": "python",
   "nbconvert_exporter": "python",
   "pygments_lexer": "ipython3",
   "version": "3.6.4"
  }
 },
 "nbformat": 4,
 "nbformat_minor": 2
}
